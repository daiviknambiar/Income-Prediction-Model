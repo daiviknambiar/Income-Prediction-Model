{
  "nbformat": 4,
  "nbformat_minor": 0,
  "metadata": {
    "colab": {
      "provenance": [],
      "authorship_tag": "ABX9TyMwpRPTQHFh4JrgWZj/OFXB",
      "include_colab_link": true
    },
    "kernelspec": {
      "name": "python3",
      "display_name": "Python 3"
    },
    "language_info": {
      "name": "python"
    }
  },
  "cells": [
    {
      "cell_type": "markdown",
      "metadata": {
        "id": "view-in-github",
        "colab_type": "text"
      },
      "source": [
        "<a href=\"https://colab.research.google.com/github/daiviknambiar/Income-Prediction-Model/blob/main/Income_Prediction_Model.ipynb\" target=\"_parent\"><img src=\"https://colab.research.google.com/assets/colab-badge.svg\" alt=\"Open In Colab\"/></a>"
      ]
    },
    {
      "cell_type": "code",
      "execution_count": null,
      "metadata": {
        "id": "c9jl_ULgza0_"
      },
      "outputs": [],
      "source": [
        "import pandas as pd\n",
        "import matplotlib.pyplot as plt\n",
        "import seaborn as sns\n",
        "import numpy as np\n",
        "import sklearn as sk"
      ]
    },
    {
      "cell_type": "code",
      "source": [
        "##Load df\n",
        "df = pd.read_csv(\"income.csv\")"
      ],
      "metadata": {
        "id": "hqP6bDZCzt-f"
      },
      "execution_count": null,
      "outputs": []
    },
    {
      "cell_type": "code",
      "source": [
        "#One hot enconding\n",
        "df = pd.concat([df.drop('occupation', axis=1),\n",
        "                pd.get_dummies(df['occupation']).add_prefix('occupation_')], axis=1)\n",
        "\n",
        "df = pd.concat([df.drop('workclass', axis=1),\n",
        "                pd.get_dummies(df['workclass']).add_prefix('workclass_')], axis=1)\n",
        "\n",
        "df = df.drop('education', axis=1)\n",
        "\n",
        "df = pd.concat([df.drop('marital-status', axis=1),\n",
        "                pd.get_dummies(df['marital-status']).add_prefix('marital-status_')], axis=1)\n",
        "\n",
        "df = pd.concat([df.drop('relationship', axis=1),\n",
        "                pd.get_dummies(df['relationship']).add_prefix('relationship_')], axis=1)\n",
        "\n",
        "df = pd.concat([df.drop('race', axis=1),\n",
        "                pd.get_dummies(df['race']).add_prefix('race_')], axis=1)\n",
        "\n",
        "df = pd.concat([df.drop('native-country', axis=1),\n",
        "                pd.get_dummies(df['native-country']).add_prefix('native-country_')], axis=1)\n"
      ],
      "metadata": {
        "id": "Hxs3jLgU2jlF"
      },
      "execution_count": null,
      "outputs": []
    },
    {
      "cell_type": "code",
      "source": [
        "#Enconding for Income and Gender\n",
        "df['gender'] = df['gender'].apply(lambda x: 1 if x == 'Male' else 0)\n",
        "df['income'] = df['income'].apply(lambda x: 1 if x == '>50K' else 0)"
      ],
      "metadata": {
        "id": "rlGbT_E03Oqn"
      },
      "execution_count": null,
      "outputs": []
    }
  ]
}